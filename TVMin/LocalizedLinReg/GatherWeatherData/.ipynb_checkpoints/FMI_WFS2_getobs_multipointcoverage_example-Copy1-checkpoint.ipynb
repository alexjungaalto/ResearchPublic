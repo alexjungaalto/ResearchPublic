{
 "cells": [
  {
   "cell_type": "markdown",
   "metadata": {},
   "source": [
    "This short example show how to get data from FMI Open Data multipointcoverage format. The format is used in INSPIRE specifications and is somewhat complex. Anyway, it's the most efficient way to get large amounts of data.\n",
    "\n",
    "Here we fetch all observations from Finland during two days.\n",
    "\n",
    "This example is for \"old\" format WFS2. You may try to use new WFS3 beta service as well. It's available in: http://beta.fmi.fi/data/3/wfs/sofp/"
   ]
  },
  {
   "cell_type": "code",
   "execution_count": 1,
   "metadata": {},
   "outputs": [],
   "source": [
    "import requests\n",
    "import datetime as dt\n",
    "import xml.etree.ElementTree as ET\n",
    "import numpy as np\n",
    "import re"
   ]
  },
  {
   "cell_type": "markdown",
   "metadata": {},
   "source": [
    "Required functions to get param names. Param keys are in the response document but longer names along with other metadata need to be fetched separately. "
   ]
  },
  {
   "cell_type": "code",
   "execution_count": 2,
   "metadata": {},
   "outputs": [],
   "source": [
    "def get_param_names(url):\n",
    "    \"\"\" Get parameters metadata\"\"\"\n",
    "    req = requests.get(url)\n",
    "    params = {}\n",
    "    \n",
    "    if req.status_code == 200:\n",
    "        xmlstring = req.content\n",
    "        tree = ET.ElementTree(ET.fromstring(xmlstring))                \n",
    "        for p in tree.iter(tag='{http://inspire.ec.europa.eu/schemas/omop/2.9}ObservableProperty'):\n",
    "            params[p.get('{http://www.opengis.net/gml/3.2}id')] = p.find('{http://inspire.ec.europa.eu/schemas/omop/2.9}label').text\n",
    "    return params        \n",
    "    \n",
    "def get_params(tree):\n",
    "    \"\"\" Get parameters from response xml tree \"\"\"\n",
    "    \n",
    "    retParams = []\n",
    "    for el in tree.iter(tag='{http://www.opengis.net/om/2.0}observedProperty'):\n",
    "        url = el.get('{http://www.w3.org/1999/xlink}href')\n",
    "        params = re.findall(r\"(?<=param=).*,.*(?=&)\", url)[0].split(',')\n",
    "\n",
    "        param_names = get_param_names(url)\n",
    "        for p in params:\n",
    "            retParams.append('{} ({})'.format(param_names[p], p))\n",
    "                \n",
    "    return retParams"
   ]
  },
  {
   "cell_type": "markdown",
   "metadata": {},
   "source": [
    "Positions are in the separate element. Positions are listed as lat, lon, timestamp. "
   ]
  },
  {
   "cell_type": "code",
   "execution_count": 3,
   "metadata": {},
   "outputs": [],
   "source": [
    "def get_positions(tree):\n",
    "    \"\"\" \n",
    "    Function to get times and coordinates from multipointcoverage answer\n",
    "    \"\"\"\n",
    "    positions = []\n",
    "    for el in tree.iter(tag='{http://www.opengis.net/gmlcov/1.0}positions'):\n",
    "        pos = el.text.split()\n",
    "        i = 0\n",
    "        while len(pos) > 0:\n",
    "            lat = float(pos.pop(0))\n",
    "            lon = float(pos.pop(0))\n",
    "            timestamp = int(pos.pop(0))\n",
    "            positions.append([lat,lon,timestamp])\n",
    "    return np.array(positions)"
   ]
  },
  {
   "cell_type": "markdown",
   "metadata": {},
   "source": [
    "Get data. For longer periods we have to fetch data in the loop"
   ]
  },
  {
   "cell_type": "code",
   "execution_count": 4,
   "metadata": {},
   "outputs": [
    {
     "name": "stdout",
     "output_type": "stream",
     "text": [
      "Time interval 2010-01-01 - 2010-01-02 provided 23406 rows\n",
      "Time interval 2010-01-02 - 2010-01-03 provided 23375 rows\n",
      "Done fetching data. Final dimensions of the result: (46781, 16)\n"
     ]
    }
   ],
   "source": [
    "url = 'http://opendata.fmi.fi/wfs'\n",
    "starttime = dt.datetime.strptime('2010-01-01', \"%Y-%m-%d\")\n",
    "endtime = dt.datetime.strptime('2010-01-03', \"%Y-%m-%d\")\n",
    "daystep = 1\n",
    "\n",
    "start = starttime\n",
    "end = start + dt.timedelta(days=daystep)\n",
    "if end > endtime: end = endtime\n",
    "    \n",
    "while end <= endtime and start < end:\n",
    "    startStr = start.strftime('%Y-%m-%d')\n",
    "    endStr = end.strftime('%Y-%m-%d')\n",
    "    \n",
    "    # Get data\n",
    "    payload = {\n",
    "        'request': 'getFeature',\n",
    "        'storedquery_id': 'fmi::observations::weather::multipointcoverage',\n",
    "        'bbox': '19,59,35,75',\n",
    "        'starttime': startStr,\n",
    "        'endtime': endStr,    \n",
    "    }\n",
    "    r = requests.get(url, params=payload)\n",
    "    \n",
    "    # Construct XML tree\n",
    "    tree = ET.ElementTree(ET.fromstring(r.content))\n",
    "\n",
    "    # Get geospatial and temporal positions of data elements\n",
    "    positions = get_positions(tree)\n",
    "\n",
    "    # Extract data from XML tree\n",
    "    d = []\n",
    "    for el in tree.iter(tag='{http://www.opengis.net/gml/3.2}doubleOrNilReasonTupleList'):\n",
    "        for pos in el.text.strip().split(\"\\n\"):\n",
    "            d.append(pos.strip().split(' '))\n",
    "    \n",
    "    # Assign data values to positions\n",
    "    junk = np.append(positions, np.array(d), axis=1)\n",
    "    try:\n",
    "        data = np.append(data, junk, axis=0)\n",
    "    except NameError:\n",
    "        data = junk\n",
    "    \n",
    "    print('Time interval {} - {} provided {} rows'.format(startStr, endStr, junk.shape[0]))\n",
    "    \n",
    "    start = end\n",
    "    end = start + dt.timedelta(days=daystep)\n",
    "    if end > endtime: end = endtime\n",
    "\n",
    "print('Done fetching data. Final dimensions of the result: {}'.format(data.shape))"
   ]
  },
  {
   "cell_type": "markdown",
   "metadata": {},
   "source": [
    "Get params from the last XML tree element (they don't change over time)"
   ]
  },
  {
   "cell_type": "code",
   "execution_count": 5,
   "metadata": {},
   "outputs": [],
   "source": [
    "params = get_params(tree)"
   ]
  },
  {
   "cell_type": "markdown",
   "metadata": {},
   "source": [
    "Finally you can do whatever you want with the data. Here we just print some example."
   ]
  },
  {
   "cell_type": "code",
   "execution_count": 6,
   "metadata": {},
   "outputs": [
    {
     "name": "stdout",
     "output_type": "stream",
     "text": [
      "Params: ['Air temperature (t2m)', 'Wind speed (ws_10min)', 'Gust speed (wg_10min)', 'Wind direction (wd_10min)', 'Relative humidity (rh)', 'Dew-point temperature (td)', 'Precipitation amount (r_1h)', 'Precipitation intensity (ri_10min)', 'Snow depth (snow_aws)', 'Pressure (msl) (p_sea)', 'Horizontal visibility (vis)', 'Cloud amount (n_man)', 'Present weather (auto) (wawa)']\n",
      "[['60.12467' '19.90362' '1262304000.0' '-11.7' '2.6' '2.6' '360.0' '90.0'\n",
      "  '-13.0' 'NaN' 'NaN' 'NaN' '1003.0' '35000.0' '8.0' '0.0']\n",
      " ['60.12467' '19.90362' '1262304600.0' '-11.5' '2.6' '3.1' '20.0' '91.0'\n",
      "  '-12.7' 'NaN' 'NaN' 'NaN' '1003.0' '35000.0' '8.0' '0.0']]\n"
     ]
    }
   ],
   "source": [
    "print('Params: {}'.format(params))\n",
    "print(data[0:2])"
   ]
  }
 ],
 "metadata": {
  "kernelspec": {
   "display_name": "Python 3",
   "language": "python",
   "name": "python3"
  },
  "language_info": {
   "codemirror_mode": {
    "name": "ipython",
    "version": 3
   },
   "file_extension": ".py",
   "mimetype": "text/x-python",
   "name": "python",
   "nbconvert_exporter": "python",
   "pygments_lexer": "ipython3",
   "version": "3.6.5"
  }
 },
 "nbformat": 4,
 "nbformat_minor": 2
}
